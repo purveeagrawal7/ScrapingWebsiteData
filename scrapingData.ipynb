{
 "cells": [
  {
   "cell_type": "code",
   "execution_count": 2,
   "metadata": {},
   "outputs": [],
   "source": [
    "from bs4 import BeautifulSoup"
   ]
  },
  {
   "cell_type": "code",
   "execution_count": 3,
   "metadata": {},
   "outputs": [],
   "source": [
    "from urllib.request import urlopen"
   ]
  },
  {
   "cell_type": "code",
   "execution_count": 4,
   "metadata": {},
   "outputs": [],
   "source": [
    "BASE_URL = \"http://www.chicagoreader.com\""
   ]
  },
  {
   "cell_type": "code",
   "execution_count": 27,
   "metadata": {},
   "outputs": [],
   "source": [
    "html = urlopen(\"https://www.chicagoreader.com/chicago/food-and-drink/Section?oid=846971\").read()"
   ]
  },
  {
   "cell_type": "code",
   "execution_count": 6,
   "metadata": {},
   "outputs": [],
   "source": [
    " soup = BeautifulSoup(html, \"lxml\")"
   ]
  },
  {
   "cell_type": "code",
   "execution_count": 7,
   "metadata": {},
   "outputs": [],
   "source": [
    "mainNav = soup.find(\"ul\", id=\"mainNav\")"
   ]
  },
  {
   "cell_type": "code",
   "execution_count": 8,
   "metadata": {},
   "outputs": [],
   "source": [
    "#mainNav.findAll(\"li\")\n",
    "category_links = [BASE_URL + li.a[\"href\"] for li in mainNav.findAll(\"li\")]"
   ]
  },
  {
   "cell_type": "code",
   "execution_count": 9,
   "metadata": {},
   "outputs": [
    {
     "data": {
      "text/plain": [
       "['http://www.chicagoreader.comhttps://www.chicagoreader.com/chicago/news-and-politics/Section?oid=846996',\n",
       " 'http://www.chicagoreader.comhttps://www.chicagoreader.com/chicago/music/Section?oid=846991',\n",
       " 'http://www.chicagoreader.comhttps://www.chicagoreader.com/chicago/arts-and-culture/Section?oid=939136',\n",
       " 'http://www.chicagoreader.comhttps://www.chicagoreader.com/chicago/film/Section?oid=846987',\n",
       " 'http://www.chicagoreader.comhttps://www.chicagoreader.com/chicago/food-and-drink/Section?oid=846971',\n",
       " 'http://www.chicagoreader.comhttps://www.chicagoreader.com/classifieds']"
      ]
     },
     "execution_count": 9,
     "metadata": {},
     "output_type": "execute_result"
    }
   ],
   "source": [
    "category_links"
   ]
  },
  {
   "cell_type": "code",
   "execution_count": 20,
   "metadata": {},
   "outputs": [],
   "source": [
    " category = soup.find(\"a\", \"subnav_link\").string"
   ]
  },
  {
   "cell_type": "code",
   "execution_count": 21,
   "metadata": {},
   "outputs": [
    {
     "data": {
      "text/plain": [
       "'News & Politics'"
      ]
     },
     "execution_count": 21,
     "metadata": {},
     "output_type": "execute_result"
    }
   ],
   "source": [
    "category"
   ]
  },
  {
   "cell_type": "code",
   "execution_count": 22,
   "metadata": {},
   "outputs": [],
   "source": [
    "def get_category_winner(category_url):\n",
    "    html = urlopen(category_url).read()\n",
    "    soup = BeautifulSoup(html, \"lxml\")\n",
    "    category = soup.find(\"a\", \"subnav_link\").string\n",
    "   # winner = [h2.string for h2 in soup.findAll(\"h2\", \"boc1\")]\n",
    "   # runners_up = [h2.string for h2 in soup.findAll(\"h2\", \"boc2\")]\n",
    "    return {\"category\": category,}"
   ]
  },
  {
   "cell_type": "code",
   "execution_count": 23,
   "metadata": {},
   "outputs": [
    {
     "data": {
      "text/plain": [
       "{'category': 'News & Politics'}"
      ]
     },
     "execution_count": 23,
     "metadata": {},
     "output_type": "execute_result"
    }
   ],
   "source": [
    "get_category_winner(\"https://www.chicagoreader.com/chicago/food-and-drink/Section?oid=846971\")"
   ]
  },
  {
   "cell_type": "code",
   "execution_count": 28,
   "metadata": {},
   "outputs": [],
   "source": [
    "html1 = urlopen(\"http://webdatacommons.org/webtables/\").read()"
   ]
  },
  {
   "cell_type": "code",
   "execution_count": 29,
   "metadata": {},
   "outputs": [],
   "source": [
    " soup = BeautifulSoup(html1, \"lxml\")"
   ]
  },
  {
   "cell_type": "code",
   "execution_count": 31,
   "metadata": {},
   "outputs": [],
   "source": [
    " row_cells = soup.findAll(\"td\")"
   ]
  },
  {
   "cell_type": "code",
   "execution_count": 37,
   "metadata": {},
   "outputs": [
    {
     "data": {
      "text/plain": [
       "[<td align=\"right\">90,266,223</td>,\n",
       " <td align=\"right\">0.90</td>,\n",
       " <td align=\"right\">139,687,207</td>,\n",
       " <td align=\"right\">1.40</td>,\n",
       " <td align=\"right\">3,086,430</td>,\n",
       " <td align=\"right\">0.03</td>,\n",
       " <td align=\"right\"><strong>233,039,860</strong></td>,\n",
       " <td align=\"right\"><strong>2.25</strong></td>,\n",
       " <td>July 2015</td>,\n",
       " <td>165 Gigabyte</td>,\n",
       " <td>1.78 billion</td>,\n",
       " <td>15 million </td>,\n",
       " <td>233 million</td>,\n",
       " <td>323 thousand</td>,\n",
       " <td>August 2012</td>,\n",
       " <td>1020 Gigabyte</td>,\n",
       " <td>3.5 billion</td>,\n",
       " <td>40 million</td>,\n",
       " <td>147 million</td>,\n",
       " <td>1.01 million</td>]"
      ]
     },
     "execution_count": 37,
     "metadata": {},
     "output_type": "execute_result"
    }
   ],
   "source": [
    "row_cells"
   ]
  },
  {
   "cell_type": "code",
   "execution_count": null,
   "metadata": {},
   "outputs": [],
   "source": [
    "def is_beer_entry(table_row):\n",
    "    row_cells = table_row.findAll(\"td\")\n",
    "    beer_id = get_beer_id(row_cells[0].text)\n",
    "    return ( len(row_cells) == 8 and beer_id )\n",
    " \n",
    "# Return the beer entry numerical identifier from the \"Entry\" column.\n",
    "def get_beer_id(cell_value):\n",
    "    r = re.match(\"^(\\d{1,4})\\.$\", cell_value)\n",
    "    if r and len(r.groups()) == 1:\n",
    "        beer_id = r.group(1)\n",
    "        return int(beer_id)\n",
    "    else:\n",
    "        return None"
   ]
  }
 ],
 "metadata": {
  "kernelspec": {
   "display_name": "Python 3",
   "language": "python",
   "name": "python3"
  },
  "language_info": {
   "codemirror_mode": {
    "name": "ipython",
    "version": 3
   },
   "file_extension": ".py",
   "mimetype": "text/x-python",
   "name": "python",
   "nbconvert_exporter": "python",
   "pygments_lexer": "ipython3",
   "version": "3.6.4"
  }
 },
 "nbformat": 4,
 "nbformat_minor": 2
}
